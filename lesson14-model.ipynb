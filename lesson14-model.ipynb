{
 "cells": [
  {
   "cell_type": "code",
   "execution_count": 2,
   "metadata": {},
   "outputs": [
    {
     "data": {
      "text/plain": [
       "[<matplotlib.lines.Line2D at 0x12b1abd60>]"
      ]
     },
     "execution_count": 2,
     "metadata": {},
     "output_type": "execute_result"
    },
    {
     "data": {
      "image/png": "[encoded data removed]",
      "text/plain": [
       "<Figure size 640x480 with 1 Axes>"
      ]
     },
     "metadata": {},
     "output_type": "display_data"
    }
   ],
   "source": [
    "import numpy as np\n",
    "import random\n",
    "from matplotlib import pyplot as plt\n",
    "\n",
    "w = 2\n",
    "b = 3\n",
    "xlim = [-10, 10]\n",
    "x_train = np.random.randint(xlim[0], xlim[1], size=30)\n",
    "y_train = [w*x+b + random.randint(0,2) for x in x_train]\n",
    "\n",
    "plt.plot(x_train, y_train, 'bo')"
   ]
  },
  {
   "cell_type": "code",
   "execution_count": 3,
   "metadata": {},
   "outputs": [
    {
     "name": "stdout",
     "output_type": "stream",
     "text": [
      "tensor(3)\n",
      "tensor([-2.4263], grad_fn=<AddBackward0>)\n",
      "('weight', Parameter containing:\n",
      "tensor([1.9964], requires_grad=True))\n",
      "('bias', Parameter containing:\n",
      "tensor([3.2526], requires_grad=True))\n"
     ]
    }
   ],
   "source": [
    "import torch\n",
    "from torch import nn\n",
    "\n",
    "class LinearModel(nn.Module):\n",
    "    def __init__(self) -> None:\n",
    "        super().__init__()\n",
    "        self.weight = nn.Parameter(torch.randn(1))\n",
    "        self.bias = nn.Parameter(torch.randn(1))\n",
    "    \n",
    "    def forward(self, input):\n",
    "        return (input * self.weight) + self.bias\n",
    "\n",
    "\n",
    "model = LinearModel()\n",
    "x = torch.tensor(3)\n",
    "y = model(x)\n",
    "print(x)\n",
    "print(y)\n",
    "\n",
    "optimizer = torch.optim.SGD(model.parameters(), 1e-4, weight_decay=1e-2, momentum=0.9)\n",
    "\n",
    "y_train = torch.tensor(y_train, dtype=torch.float32)\n",
    "for _ in range(1000):\n",
    "    input = torch.from_numpy(x_train)\n",
    "    output = model(input)\n",
    "    loss = nn.MSELoss()(output, y_train)\n",
    "    model.zero_grad()\n",
    "    loss.backward()\n",
    "    optimizer.step()\n",
    "\n",
    "for param in model.named_parameters():\n",
    "    print(param)"
   ]
  },
  {
   "cell_type": "code",
   "execution_count": 8,
   "metadata": {},
   "outputs": [
    {
     "name": "stdout",
     "output_type": "stream",
     "text": [
      "('weight', Parameter containing:\n",
      "tensor([1.9964], requires_grad=True))\n",
      "('bias', Parameter containing:\n",
      "tensor([3.2526], requires_grad=True))\n"
     ]
    }
   ],
   "source": [
    "# save and load\n",
    "torch.save(model.state_dict(), './lesson14-model-state-only.pth')\n",
    "\n",
    "torch.save(model, './lesson14-model.pth')\n",
    "\n",
    "linearModel = torch.load('./lesson14-model.pth')\n",
    "linearModel.eval()\n",
    "\n",
    "for param in linearModel.named_parameters():\n",
    "    print(param)"
   ]
  }
 ],
 "metadata": {
  "kernelspec": {
   "display_name": "Python 3",
   "language": "python",
   "name": "python3"
  },
  "language_info": {
   "codemirror_mode": {
    "name": "ipython",
    "version": 3
   },
   "file_extension": ".py",
   "mimetype": "text/x-python",
   "name": "python",
   "nbconvert_exporter": "python",
   "pygments_lexer": "ipython3",
   "version": "3.10.9"
  },
  "orig_nbformat": 4
 },
 "nbformat": 4,
 "nbformat_minor": 2
}
