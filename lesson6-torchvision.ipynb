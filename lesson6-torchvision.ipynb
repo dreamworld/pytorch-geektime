{
 "cells": [
  {
   "cell_type": "code",
   "execution_count": 2,
   "id": "da5e9e6a",
   "metadata": {},
   "outputs": [],
   "source": [
    "import torch\n",
    "from torch.utils.data import Dataset\n",
    "\n",
    "class MyDataset(Dataset):\n",
    "    # constructor\n",
    "    def __init__(self, data_tensor, target_tensor):\n",
    "        self.data_tensor = data_tensor\n",
    "        self.target_tensor = target_tensor\n",
    "\n",
    "    def __len__(self):\n",
    "        return self.data_tensor.size(0)\n",
    "    \n",
    "    def __getitem__(self, index):\n",
    "        return self.data_tensor[index], self.target_tensor[index]"
   ]
  },
  {
   "cell_type": "code",
   "execution_count": 3,
   "id": "7dedf68a",
   "metadata": {},
   "outputs": [
    {
     "name": "stdout",
     "output_type": "stream",
     "text": [
      "Dataset size:  10\n",
      "tensor_data[0]: (tensor([-0.1001, -1.0698, -0.2782]), tensor(1))\n"
     ]
    }
   ],
   "source": [
    "data_tensor = torch.randn(10,3)\n",
    "target_tensor = torch.randint(2,(10,)) # label\n",
    "\n",
    "my_dataset = MyDataset(data_tensor, target_tensor)\n",
    "\n",
    "print(\"Dataset size: \", len(my_dataset))\n",
    "print(\"tensor_data[0]:\", my_dataset[0])"
   ]
  },
  {
   "cell_type": "code",
   "execution_count": 4,
   "id": "b2ae1ef2",
   "metadata": {},
   "outputs": [
    {
     "name": "stdout",
     "output_type": "stream",
     "text": [
      "tensor([[ 0.0830, -0.7627,  0.0866],\n",
      "        [ 0.9518, -0.4725,  0.2719]]) tensor([1, 1])\n",
      "tensor([[ 0.8953,  0.6716,  0.7002],\n",
      "        [-0.8279,  0.4978,  1.6698]]) tensor([0, 1])\n",
      "tensor([[-0.1001, -1.0698, -0.2782],\n",
      "        [ 0.2641, -0.0154, -0.2795]]) tensor([1, 0])\n",
      "tensor([[-0.3007,  1.1450,  0.3518],\n",
      "        [-0.3168, -0.8301, -1.2342]]) tensor([0, 1])\n",
      "tensor([[-1.4045,  1.0933,  1.6540],\n",
      "        [-0.7879, -1.7702,  1.3259]]) tensor([1, 1])\n"
     ]
    }
   ],
   "source": [
    "from torch.utils.data import DataLoader\n",
    "\n",
    "tensor_dataloader = DataLoader(dataset=my_dataset, batch_size=2, shuffle=True, num_workers=0)\n",
    "for data, target in tensor_dataloader:\n",
    "    print(data, target)"
   ]
  },
  {
   "cell_type": "code",
   "execution_count": 7,
   "id": "b3d1ccea",
   "metadata": {},
   "outputs": [
    {
     "name": "stdout",
     "output_type": "stream",
     "text": [
      "One batch:  [tensor([[-0.3007,  1.1450,  0.3518],\n",
      "        [-0.3168, -0.8301, -1.2342]]), tensor([0, 1])]\n"
     ]
    }
   ],
   "source": [
    "print('One batch: ', next(iter(tensor_dataloader)))"
   ]
  },
  {
   "cell_type": "code",
   "execution_count": 6,
   "id": "0a3a3c52",
   "metadata": {},
   "outputs": [
    {
     "data": {
      "image/png": "[encoded data removed]",
      "text/plain": [
       "<PIL.Image.Image image mode=L size=28x28>"
      ]
     },
     "metadata": {},
     "output_type": "display_data"
    },
    {
     "name": "stdout",
     "output_type": "stream",
     "text": [
      "Image label is:  5\n"
     ]
    }
   ],
   "source": [
    "import torchvision\n",
    "\n",
    "mnist_data = torchvision.datasets.MNIST(root='./data', train=True, transform=None, target_transform=None, download=True )\n",
    "mnist_data_list = list(mnist_data)\n",
    "display(mnist_data_list[0][0])\n",
    "print(\"Image label is: \", mnist_data_list[0][1])"
   ]
  }
 ],
 "metadata": {
  "kernelspec": {
   "display_name": "Python 3",
   "language": "python",
   "name": "python3"
  },
  "language_info": {
   "codemirror_mode": {
    "name": "ipython",
    "version": 3
   },
   "file_extension": ".py",
   "mimetype": "text/x-python",
   "name": "python",
   "nbconvert_exporter": "python",
   "pygments_lexer": "ipython3",
   "version": "3.10.9"
  },
  "vscode": {
   "interpreter": {
    "hash": "2e335fe6fe443a5121f02ae1f17733d3e2f7df81b4c5cb47ecaaf3fbab4c9741"
   }
  }
 },
 "nbformat": 4,
 "nbformat_minor": 5
}
