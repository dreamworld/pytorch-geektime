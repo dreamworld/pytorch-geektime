{
 "cells": [
  {
   "cell_type": "code",
   "execution_count": 1,
   "metadata": {},
   "outputs": [
    {
     "name": "stdout",
     "output_type": "stream",
     "text": [
      "torch.Size([1, 3, 5, 5])\n"
     ]
    }
   ],
   "source": [
    "import torch\n",
    "import torch.nn as nn\n",
    "\n",
    "\n",
    "x = torch.rand((3, 5, 5)).unsqueeze(0)\n",
    "print(x.shape)"
   ]
  },
  {
   "cell_type": "code",
   "execution_count": 2,
   "metadata": {},
   "outputs": [
    {
     "name": "stdout",
     "output_type": "stream",
     "text": [
      "Parameter containing:\n",
      "tensor([[[[ 0.1669, -0.2870, -0.0674],\n",
      "          [-0.1918,  0.0842,  0.1214],\n",
      "          [ 0.0983, -0.0669, -0.1813]]],\n",
      "\n",
      "\n",
      "        [[[-0.3032,  0.2641,  0.0045],\n",
      "          [-0.1761,  0.1175, -0.2390],\n",
      "          [-0.1471,  0.1857, -0.1866]]],\n",
      "\n",
      "\n",
      "        [[[-0.1453, -0.2427,  0.1737],\n",
      "          [ 0.0268,  0.1091, -0.2542],\n",
      "          [-0.1198, -0.1466, -0.2591]]]], requires_grad=True)\n",
      "Parameter containing:\n",
      "tensor([-0.0092,  0.2309,  0.2795], requires_grad=True)\n"
     ]
    }
   ],
   "source": [
    "# Depthwise conv,DW\n",
    "# 请注意DW中，输入特征通道数与输出通道数是一样的\n",
    "in_channels_dw = x.shape[1]\n",
    "out_channels_dw = x.shape[1]\n",
    "\n",
    "kernel_size = 3\n",
    "stride = 1\n",
    "\n",
    "dw = nn.Conv2d(in_channels_dw, out_channels_dw, kernel_size, stride, groups=in_channels_dw)\n",
    "print(dw.weight)\n",
    "print(dw.bias)\n"
   ]
  },
  {
   "cell_type": "code",
   "execution_count": 3,
   "metadata": {},
   "outputs": [
    {
     "name": "stdout",
     "output_type": "stream",
     "text": [
      "torch.Size([1, 4, 3, 3])\n"
     ]
    }
   ],
   "source": [
    "# Pointwise conv, PW\n",
    "in_channels_pw = out_channels_dw\n",
    "out_channels_pw = 4\n",
    "kernel_size_pw = 1 # NOTE pw conv, key different\n",
    "\n",
    "pw = nn.Conv2d(in_channels_pw, out_channels_pw, kernel_size_pw, stride)\n",
    "\n",
    "# combine DW and PW\n",
    "out = pw(dw(x))\n",
    "print(out.shape)"
   ]
  }
 ],
 "metadata": {
  "kernelspec": {
   "display_name": "Python 3",
   "language": "python",
   "name": "python3"
  },
  "language_info": {
   "codemirror_mode": {
    "name": "ipython",
    "version": 3
   },
   "file_extension": ".py",
   "mimetype": "text/x-python",
   "name": "python",
   "nbconvert_exporter": "python",
   "pygments_lexer": "ipython3",
   "version": "3.10.9"
  },
  "orig_nbformat": 4
 },
 "nbformat": 4,
 "nbformat_minor": 2
}
